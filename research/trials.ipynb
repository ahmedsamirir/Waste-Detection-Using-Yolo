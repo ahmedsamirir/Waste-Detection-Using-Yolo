{
 "cells": [
  {
   "cell_type": "code",
   "execution_count": 32,
   "metadata": {},
   "outputs": [
    {
     "name": "stdout",
     "output_type": "stream",
     "text": [
      "Requirement already satisfied: gdown in c:\\users\\chefaa\\anaconda3\\lib\\site-packages (5.1.0)\n",
      "Requirement already satisfied: beautifulsoup4 in c:\\users\\chefaa\\anaconda3\\lib\\site-packages (from gdown) (4.12.2)\n",
      "Requirement already satisfied: filelock in c:\\users\\chefaa\\anaconda3\\lib\\site-packages (from gdown) (3.13.1)\n",
      "Requirement already satisfied: requests[socks] in c:\\users\\chefaa\\anaconda3\\lib\\site-packages (from gdown) (2.31.0)\n",
      "Requirement already satisfied: tqdm in c:\\users\\chefaa\\anaconda3\\lib\\site-packages (from gdown) (4.65.0)\n",
      "Requirement already satisfied: soupsieve>1.2 in c:\\users\\chefaa\\anaconda3\\lib\\site-packages (from beautifulsoup4->gdown) (2.5)\n",
      "Requirement already satisfied: charset-normalizer<4,>=2 in c:\\users\\chefaa\\anaconda3\\lib\\site-packages (from requests[socks]->gdown) (2.0.4)\n",
      "Requirement already satisfied: idna<4,>=2.5 in c:\\users\\chefaa\\anaconda3\\lib\\site-packages (from requests[socks]->gdown) (3.4)\n",
      "Requirement already satisfied: urllib3<3,>=1.21.1 in c:\\users\\chefaa\\anaconda3\\lib\\site-packages (from requests[socks]->gdown) (2.0.7)\n",
      "Requirement already satisfied: certifi>=2017.4.17 in c:\\users\\chefaa\\anaconda3\\lib\\site-packages (from requests[socks]->gdown) (2024.2.2)\n",
      "Requirement already satisfied: PySocks!=1.5.7,>=1.5.6 in c:\\users\\chefaa\\anaconda3\\lib\\site-packages (from requests[socks]->gdown) (1.7.1)\n",
      "Requirement already satisfied: colorama in c:\\users\\chefaa\\anaconda3\\lib\\site-packages (from tqdm->gdown) (0.4.6)\n"
     ]
    }
   ],
   "source": [
    "!pip3 install gdown\n",
    "import gdown"
   ]
  },
  {
   "cell_type": "code",
   "execution_count": 3,
   "metadata": {},
   "outputs": [],
   "source": [
    "import os"
   ]
  },
  {
   "cell_type": "code",
   "execution_count": 30,
   "metadata": {},
   "outputs": [],
   "source": [
    "os.chdir(\"Waste-Detection-Using-Yolo/\")"
   ]
  },
  {
   "cell_type": "code",
   "execution_count": 31,
   "metadata": {},
   "outputs": [
    {
     "name": "stdout",
     "output_type": "stream",
     "text": [
      "/d/Me/Waste-Detection-Using-Yolo\n"
     ]
    }
   ],
   "source": [
    "!pwd"
   ]
  },
  {
   "cell_type": "code",
   "execution_count": 39,
   "metadata": {},
   "outputs": [
    {
     "name": "stdout",
     "output_type": "stream",
     "text": [
      "1ECfl3dtYyfivY8kYPq7RHUBTjC-2vf61\n"
     ]
    }
   ],
   "source": [
    "from urllib.parse import urlparse, parse_qs\n",
    "\n",
    "def extract_file_id(url):\n",
    "    # Parse the URL\n",
    "    parsed_url = urlparse(url)\n",
    "    #print(parsed_url)\n",
    "\n",
    "    # Check if the URL is a Google Drive file URL\n",
    "    if \"drive.google.com\" not in parsed_url.netloc:\n",
    "        return None\n",
    "\n",
    "    # Extract the file ID from the URL path\n",
    "    path_components = parsed_url.path.split('/')\n",
    "    #print(path_components)\n",
    "    file_id = None\n",
    "    for i, component in enumerate(path_components):\n",
    "        if component == 'file' and i < len(path_components) - 1:\n",
    "            file_id = path_components[i + 2]\n",
    "            break # Used to exit the loop early once the desired condition is met\n",
    "\n",
    "    return file_id\n",
    "\n",
    "# Usage\n",
    "url = \"https://drive.google.com/file/d/1ECfl3dtYyfivY8kYPq7RHUBTjC-2vf61/view?usp=share_link\"\n",
    "file_id = extract_file_id(url)\n",
    "print(file_id)\n"
   ]
  },
  {
   "cell_type": "code",
   "execution_count": 42,
   "metadata": {},
   "outputs": [
    {
     "name": "stderr",
     "output_type": "stream",
     "text": [
      "Downloading...\n",
      "From (original): https://drive.google.com/uc?/export=download&id=1ECfl3dtYyfivY8kYPq7RHUBTjC-2vf61\n",
      "From (redirected): https://drive.google.com/uc?%2Fexport=download&id=1ECfl3dtYyfivY8kYPq7RHUBTjC-2vf61&confirm=t&uuid=51ffa2a6-5b6d-4152-be96-1646a1031dc3\n",
      "To: d:\\Me\\Waste-Detection-Using-Yolo\\data\\waste_data.zip\n",
      "100%|██████████| 40.1M/40.1M [00:24<00:00, 1.63MB/s]"
     ]
    },
    {
     "name": "stdout",
     "output_type": "stream",
     "text": [
      "Download successful.\n"
     ]
    },
    {
     "name": "stderr",
     "output_type": "stream",
     "text": [
      "\n"
     ]
    }
   ],
   "source": [
    "# Function to download file from Google Drive using its ID\n",
    "def download_from_drive(file_id, output_path):\n",
    "    try:\n",
    "        # Construct the download URL\n",
    "        download_url = f\"https://drive.google.com/uc?/export=download&id={file_id}\"\n",
    "        \n",
    "        # Download the file\n",
    "        gdown.download(download_url, output_path, quiet=False)\n",
    "        \n",
    "        # Success message\n",
    "        print(\"Download successful.\")\n",
    "    except Exception as e:\n",
    "        # Handle errors\n",
    "        print(f\"Error downloading file: {e}\")\n",
    "\n",
    "# Usage\n",
    "output_path = \"data/waste_data.zip\"\n",
    "download_from_drive(file_id, output_path)\n"
   ]
  }
 ],
 "metadata": {
  "kernelspec": {
   "display_name": "base",
   "language": "python",
   "name": "python3"
  },
  "language_info": {
   "codemirror_mode": {
    "name": "ipython",
    "version": 3
   },
   "file_extension": ".py",
   "mimetype": "text/x-python",
   "name": "python",
   "nbconvert_exporter": "python",
   "pygments_lexer": "ipython3",
   "version": "3.11.7"
  }
 },
 "nbformat": 4,
 "nbformat_minor": 2
}
